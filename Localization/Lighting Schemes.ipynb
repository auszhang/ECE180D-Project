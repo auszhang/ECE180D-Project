{
 "cells": [
  {
   "cell_type": "code",
   "execution_count": 1,
   "metadata": {},
   "outputs": [],
   "source": [
    "import numpy as np"
   ]
  },
  {
   "cell_type": "code",
   "execution_count": 2,
   "metadata": {},
   "outputs": [],
   "source": [
    "# One cap contains 8 individually addressable LEDs\n",
    "# 4 caps total with following LED placements:\n",
    "# 1 1 1 1 1 1\n",
    "# 1 0 1 1 0 1\n",
    "# 1 1 1 1 1 1\n",
    "# 1 1 1 1 1 1\n",
    "# 1 0 1 1 0 1\n",
    "# 1 1 1 1 1 1\n",
    "U = [[1,0,0,0,0,1],\n",
    "     [1,0,0,0,0,1],\n",
    "     [1,0,0,0,0,1],\n",
    "     [1,0,0,0,0,1],\n",
    "     [1,0,0,0,0,1],\n",
    "     [1,1,1,1,1,1]]\n",
    "C = [[1,1,1,1,1,1],\n",
    "     [1,0,0,0,0,0],\n",
    "     [1,0,0,0,0,0],\n",
    "     [1,0,0,0,0,0],\n",
    "     [1,0,0,0,0,0],\n",
    "     [1,1,1,1,1,1]]\n",
    "L = [[1,0,0,0,0,0],\n",
    "     [1,0,0,0,0,0],\n",
    "     [1,0,0,0,0,0],\n",
    "     [1,0,0,0,0,0],\n",
    "     [1,0,0,0,0,0],\n",
    "     [1,1,1,1,1,1]]\n",
    "A = [[1,1,1,1,1,1],\n",
    "     [1,0,0,0,0,1],\n",
    "     [1,1,1,1,1,1],\n",
    "     [1,0,0,0,0,1],\n",
    "     [1,0,0,0,0,1],\n",
    "     [1,0,0,0,0,1]]"
   ]
  },
  {
   "cell_type": "code",
   "execution_count": 7,
   "metadata": {},
   "outputs": [],
   "source": [
    "# Lighting scheme for 'U'\n",
    "cap_UL = [[1,0,0],\n",
    "          [1,0,0],\n",
    "          [1,0,0]]\n",
    "cap_UR = [[0,0,1],\n",
    "          [0,0,1],\n",
    "          [0,0,1]]\n",
    "cap_DL = [[1,0,0],\n",
    "          [1,0,0],\n",
    "          [1,1,1]]\n",
    "cap_DR = [[0,0,1],\n",
    "          [0,0,1],\n",
    "          [1,1,1]]\n",
    "U_ASGN = []\n",
    "U_ASGN.append(cap_UL)\n",
    "U_ASGN.append(cap_UR)\n",
    "U_ASGN.append(cap_DL)\n",
    "U_ASGN.append(cap_DR)"
   ]
  },
  {
   "cell_type": "code",
   "execution_count": 8,
   "metadata": {},
   "outputs": [],
   "source": [
    "# Lighting scheme for 'C'\n",
    "cap_UL = [[1,1,1],\n",
    "          [1,0,0],\n",
    "          [1,0,0]]\n",
    "cap_UR = [[1,1,1],\n",
    "          [0,0,0],\n",
    "          [0,0,0]]\n",
    "cap_DL = [[1,0,0],\n",
    "          [1,0,0],\n",
    "          [1,1,1]]\n",
    "cap_DR = [[0,0,0],\n",
    "          [0,0,0],\n",
    "          [1,1,1]]\n",
    "C_ASGN = []\n",
    "C_ASGN.append(cap_UL)\n",
    "C_ASGN.append(cap_UR)\n",
    "C_ASGN.append(cap_DL)\n",
    "C_ASGN.append(cap_DR)"
   ]
  },
  {
   "cell_type": "code",
   "execution_count": 9,
   "metadata": {},
   "outputs": [],
   "source": [
    "# Lighting scheme for 'L'\n",
    "cap_UL = [[1,0,0],\n",
    "          [1,0,0],\n",
    "          [1,0,0]]\n",
    "cap_UR = [[0,0,0],\n",
    "          [0,0,0],\n",
    "          [0,0,0]]\n",
    "cap_DL = [[1,0,0],\n",
    "          [1,0,0],\n",
    "          [1,1,1]]\n",
    "cap_DR = [[0,0,0],\n",
    "          [0,0,0],\n",
    "          [1,1,1]]\n",
    "L_ASGN = []\n",
    "L_ASGN.append(cap_UL)\n",
    "L_ASGN.append(cap_UR)\n",
    "L_ASGN.append(cap_DL)\n",
    "L_ASGN.append(cap_DR)"
   ]
  },
  {
   "cell_type": "code",
   "execution_count": 10,
   "metadata": {},
   "outputs": [],
   "source": [
    "# Lighting scheme for 'A'\n",
    "cap_UL = [[1,1,1],\n",
    "          [1,0,0],\n",
    "          [1,1,1]]\n",
    "cap_UR = [[1,1,1],\n",
    "          [0,0,1],\n",
    "          [1,1,1]]\n",
    "cap_DL = [[1,0,0],\n",
    "          [1,0,0],\n",
    "          [1,0,0]]\n",
    "cap_DR = [[0,0,1],\n",
    "          [0,0,1],\n",
    "          [0,0,1]]\n",
    "A_ASGN = []\n",
    "A_ASGN.append(cap_UL)\n",
    "A_ASGN.append(cap_UR)\n",
    "A_ASGN.append(cap_DL)\n",
    "A_ASGN.append(cap_DR)"
   ]
  },
  {
   "cell_type": "code",
   "execution_count": null,
   "metadata": {},
   "outputs": [],
   "source": [
    "def UCLA_light_scheme(grid, cycle):\n",
    "    if cycle%4 == 0:\n",
    "        # U\n",
    "    elif cycle%4 == 1:\n",
    "        # C\n",
    "    elif cycle%4 == 2:\n",
    "        # L\n",
    "    else:\n",
    "        # A"
   ]
  }
 ],
 "metadata": {
  "kernelspec": {
   "display_name": "Python 3",
   "language": "python",
   "name": "python3"
  },
  "language_info": {
   "codemirror_mode": {
    "name": "ipython",
    "version": 3
   },
   "file_extension": ".py",
   "mimetype": "text/x-python",
   "name": "python",
   "nbconvert_exporter": "python",
   "pygments_lexer": "ipython3",
   "version": "3.6.5"
  }
 },
 "nbformat": 4,
 "nbformat_minor": 2
}
