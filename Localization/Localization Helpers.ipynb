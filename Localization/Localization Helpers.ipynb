{
 "cells": [
  {
   "cell_type": "code",
   "execution_count": 9,
   "metadata": {},
   "outputs": [],
   "source": [
    "import numpy as np"
   ]
  },
  {
   "cell_type": "code",
   "execution_count": 2,
   "metadata": {},
   "outputs": [],
   "source": [
    "def findMaxFullGrid(grid): \n",
    "    num_rows = len(grid)\n",
    "    num_cols = len(grid[0]) \n",
    "  \n",
    "    S = [[0 for k in range(num_cols)] for l in range(num_rows)] \n",
    "\n",
    "    for i in range(1, num_rows): \n",
    "        for j in range(1, num_cols): \n",
    "            if (grid[i][j] != 0): \n",
    "                S[i][j] = min(S[i][j-1], S[i-1][j], \n",
    "                            S[i-1][j-1]) + 1\n",
    "            else: \n",
    "                S[i][j] = 0\n",
    "\n",
    "    max_of_s = S[0][0] \n",
    "    max_i = 0\n",
    "    max_j = 0\n",
    "    for i in range(num_rows): \n",
    "        for j in range(num_cols): \n",
    "            if (max_of_s < S[i][j]): \n",
    "                max_of_s = S[i][j] \n",
    "                max_i = i \n",
    "                max_j = j \n",
    "  \n",
    "    return max_i-max_of_s+1, max_i, max_j-max_of_s+1, max_j\n",
    "\n",
    "def assign_lighting(grid):\n",
    "    lighting = np.zeros(grid.shape)\n",
    "    return lighting\n"
   ]
  },
  {
   "cell_type": "code",
   "execution_count": 3,
   "metadata": {},
   "outputs": [
    {
     "name": "stdout",
     "output_type": "stream",
     "text": [
      "(2, 8, 1, 7)\n"
     ]
    }
   ],
   "source": [
    "grid = [[0,0,0,0,0,0,1,1],\n",
    "        [0,0,0,0,1,1,1,1],\n",
    "        [0,1,1,1,1,1,1,1],\n",
    "        [1,1,1,1,1,1,1,1],\n",
    "        [1,1,1,1,1,1,1,1],\n",
    "        [1,1,1,1,1,1,1,1],\n",
    "        [1,1,1,1,1,1,1,1],\n",
    "        [1,1,1,1,1,1,1,1],\n",
    "        [1,1,1,1,1,1,1,1],\n",
    "        [1,1,1,1,0,0,0,0]]\n",
    "print(findMaxFullGrid(grid))\n"
   ]
  },
  {
   "cell_type": "code",
   "execution_count": 7,
   "metadata": {},
   "outputs": [],
   "source": [
    "# localize maps clients to their position in the display grid.\n",
    "def localize(data, grid, name_grid):\n",
    "    row = int(data[0])\n",
    "    col = int(data[1])\n",
    "    name = data[2]\n",
    "    neighbor = data[3]\n",
    "    client_id = int(data[4])\n",
    "    if row > grid.shape[0]:\n",
    "        padding = np.zeros((row-grid.shape[0], grid.shape[1]))\n",
    "        grid = np.concatenate((grid,padding), axis=0)\n",
    "        \n",
    "        padding = np.empty((row-name_grid.shape[0], name_grid.shape[1]), dtype=object)\n",
    "        name_grid = np.concatenate((name_grid,padding), axis=0)\n",
    "    if col > grid.shape[1]:\n",
    "        padding = np.zeros((grid.shape[0], col-grid.shape[1]))\n",
    "        grid = np.concatenate((grid,padding), axis=1)\n",
    "        \n",
    "        padding = np.empty((name_grid.shape[0], col-name_grid.shape[1]), dtype=object)\n",
    "        name_grid = np.concatenate((name_grid,padding), axis=1)\n",
    "\n",
    "    if grid[row-1][col-1] != 0:\n",
    "        # unsuccessful if another client is already in this position\n",
    "        return grid, name_grid, False\n",
    "    elif (name_grid[row-1][col-1] != None) and (name_grid[row-1][col-1] != name):\n",
    "        # unsuccessful if client's name doesn't match with name already in this position\n",
    "        return grid, name_grid, False\n",
    "    else:\n",
    "        # set client to this position\n",
    "        grid[row-1][col-1] = client_id\n",
    "        name_grid[row-1][col-1] = name\n",
    "        # set client's neighbor's name\n",
    "        if (col-1)!=0:\n",
    "            name_grid[row-1][col-2] = neighbor\n",
    "    return grid, name_grid, True"
   ]
  },
  {
   "cell_type": "code",
   "execution_count": 8,
   "metadata": {},
   "outputs": [],
   "source": [
    "def localize_all(data_array):\n",
    "    grid = np.zeros((1,1))\n",
    "    name_grid = np.empty((1,1), dtype=object)\n",
    "    to_place = []\n",
    "    for data in data_array:\n",
    "        grid, name_grid, successful = localize(data,grid,name_grid)\n",
    "        if not successful:\n",
    "            to_place.append(data)\n",
    "    # Do something with misplaced clients\n",
    "    return grid, name_grid\n",
    "\n",
    "def parse_from_string(s):\n",
    "    return s.split(\";\")\n",
    "\n",
    "def parse_from_strings(S):\n",
    "    data = []\n",
    "    for s in S:\n",
    "        data.append(parse_from_string(s))\n",
    "    return data"
   ]
  },
  {
   "cell_type": "code",
   "execution_count": 11,
   "metadata": {},
   "outputs": [
    {
     "name": "stdout",
     "output_type": "stream",
     "text": [
      "[[12345. 12346. 12348.]\n",
      " [12347. 12351. 12348.]\n",
      " [12351. 12351. 12350.]]\n",
      "[['A' 'B' 'F']\n",
      " ['E' 'G' 'D']\n",
      " ['H' 'I' 'C']]\n"
     ]
    }
   ],
   "source": [
    "s_array = [\"1;2;B;A;12346\",\n",
    "              \"3;3;C;I;12350\",\n",
    "              \"2;1;E;None;12347\",\n",
    "              \"2;3;D;G;12348\",\n",
    "              \"1;3;F;B;12348\",\n",
    "              \"2;2;G;E;12351\",\n",
    "              \"3;2;I;H;12351\",\n",
    "              \"3;1;H;None;12351\",\n",
    "              \"1;1;A;None;12345\"]\n",
    "data_array = parse_from_strings(s_array)\n",
    "grid, name_grid = localize_all(data_array)\n",
    "print(grid)\n",
    "print(name_grid)"
   ]
  },
  {
   "cell_type": "code",
   "execution_count": 4,
   "metadata": {},
   "outputs": [
    {
     "name": "stdout",
     "output_type": "stream",
     "text": [
      "3752075148933176157\n",
      "37520751489\n",
      "33176157\n"
     ]
    }
   ],
   "source": [
    "sadness = str(hash(\"John Doe\"))\n",
    "print(sadness)\n",
    "print(sadness[:-8])\n",
    "print(sadness[-8:])"
   ]
  },
  {
   "cell_type": "code",
   "execution_count": 4,
   "metadata": {},
   "outputs": [
    {
     "name": "stdout",
     "output_type": "stream",
     "text": [
      "a;b;c\n"
     ]
    }
   ],
   "source": [
    "a = \"a\"\n",
    "b = \"b\"\n",
    "c = \"c\"\n",
    "print(\";\".join([a,b,c]))"
   ]
  },
  {
   "cell_type": "code",
   "execution_count": null,
   "metadata": {},
   "outputs": [],
   "source": []
  }
 ],
 "metadata": {
  "kernelspec": {
   "display_name": "Python 3",
   "language": "python",
   "name": "python3"
  },
  "language_info": {
   "codemirror_mode": {
    "name": "ipython",
    "version": 3
   },
   "file_extension": ".py",
   "mimetype": "text/x-python",
   "name": "python",
   "nbconvert_exporter": "python",
   "pygments_lexer": "ipython3",
   "version": "3.7.3"
  }
 },
 "nbformat": 4,
 "nbformat_minor": 2
}
